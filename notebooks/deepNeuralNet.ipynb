{
 "metadata": {
  "language_info": {
   "codemirror_mode": {
    "name": "ipython",
    "version": 3
   },
   "file_extension": ".py",
   "mimetype": "text/x-python",
   "name": "python",
   "nbconvert_exporter": "python",
   "pygments_lexer": "ipython3",
   "version": "3.8.7-final"
  },
  "orig_nbformat": 2,
  "kernelspec": {
   "name": "python3",
   "display_name": "Python 3.8.7 64-bit",
   "metadata": {
    "interpreter": {
     "hash": "78bea88238b359cb8720bd7df922336c12f3831db9fec1bf346c95153cd214da"
    }
   }
  }
 },
 "nbformat": 4,
 "nbformat_minor": 2,
 "cells": [
  {
   "cell_type": "code",
   "execution_count": 9,
   "metadata": {},
   "outputs": [],
   "source": [
    "import numpy as np"
   ]
  },
  {
   "cell_type": "code",
   "execution_count": 10,
   "metadata": {},
   "outputs": [
    {
     "output_type": "stream",
     "name": "stdout",
     "text": [
      "Error:0.6342311598444467\nError:0.35838407676317513\nError:0.0830183113303298\nError:0.006467054957103705\nError:0.0003292669000750734\nError:1.5055622665134859e-05\n"
     ]
    }
   ],
   "source": [
    "#building a deep neural network of 3 layer example\n",
    "np.random.seed(1)\n",
    "\n",
    "def relu(x):\n",
    "    return (x > 0) * x\n",
    "def relu2deriv(output):\n",
    "    return output > 0\n",
    "\n",
    "streetlights = np.array([[1,0,1],\n",
    "                        [0,1,1],\n",
    "                        [0,0,1],\n",
    "                        [1,1,1]])\n",
    "walk_vs_stop = np.array([[1,1,0,0]]).T\n",
    "\n",
    "alpha = 0.2\n",
    "hidde_size = 4\n",
    "\n",
    "weight_0_1 = 2 * np.random.random((3,hidde_size)) - 1\n",
    "weight_1_2 = 2 * np.random.random((hidde_size,1)) - 1\n",
    "\n",
    "for interaction in range(60):\n",
    "    layer_2_error = 0 \n",
    "    for i in range(len(streetlights)):\n",
    "        layer_0 = streetlights[i:i+1]\n",
    "        layer_1 = relu(np.dot(layer_0,weight_0_1))\n",
    "        layer_2 = np.dot(layer_1,weight_1_2)\n",
    "\n",
    "        layer_2_error += np.sum((layer_2 - walk_vs_stop[i:i+1])**2)\n",
    "\n",
    "        layer_2_delta = (layer_2 - walk_vs_stop[i:i+1])\n",
    "        layer_1_delta=layer_2_delta.dot(weight_1_2.T * relu2deriv(layer_1))\n",
    "        \n",
    "        weight_1_2 -= alpha * layer_1.T.dot(layer_2_delta)\n",
    "        weight_0_1 -= alpha * layer_0.T.dot(layer_1_delta)\n",
    "\n",
    "    if (interaction % 10 == 9):\n",
    "        print(\"Error:\" + str(layer_2_error)) \n",
    "\n",
    "\n"
   ]
  },
  {
   "cell_type": "code",
   "execution_count": 11,
   "metadata": {},
   "outputs": [
    {
     "output_type": "stream",
     "name": "stdout",
     "text": [
      "Error:1.6491568605730311\n",
      "Error:1.4357273154102723\n",
      "Error:1.3493957294505783\n",
      "Error:1.3095379862681622\n",
      "Error:1.2861130043957283\n",
      "Error:1.2642555807328812\n"
     ]
    }
   ],
   "source": [
    "def Myrelu(x):\n",
    "    return (x > 0 ) * x\n",
    "\n",
    "def Myrelu2deriv(output):\n",
    "    return output > 0\n",
    "\n",
    "\n",
    "input = np.array([[1,0,1],\n",
    "                  [0,1,1],\n",
    "                  [0,0,1],\n",
    "                  [1,1,1]])\n",
    "\n",
    "output = np.array([[1,1,0,0]]).T\n",
    "alpha = 0.1\n",
    "hidden_size = 5 #nodes of the hidden layer\n",
    "\n",
    "def MydeepNeuralNetwork(input,output,alpha,hidden_size):\n",
    "    #weight from layer 0 to 1 initialize,mp.random(before nodes,after nodes)\n",
    "    weight_0_1 = 2 * np.random.random((3,hidde_size)) - 1  \n",
    "    #weight from layer 1  to 2 initialize\n",
    "    weight_1_2 = 2 * np.random.random((hidde_size,1)) - 1\n",
    "\n",
    "    for interaction in range(60):\n",
    "        layer_2_error = 0\n",
    "        for i in range(len(input)):\n",
    "            layer_0 = input[i:i+1]\n",
    "            layer_1 = relu(np.dot(layer_0,weight_0_1))\n",
    "            layer_2 = np.dot(layer_1,weight_1_2) \n",
    "            layer_2_error += np.sum((layer_2 - output[i:i+1])**2)\n",
    "\n",
    "            layer_2_delta = (layer_2 - output[i:i+1])\n",
    "            layer_1_delta=layer_2_delta.dot(weight_1_2.T * Myrelu2deriv(layer_1))\n",
    "        \n",
    "            weight_1_2 -= alpha * layer_1.T.dot(layer_2_delta)\n",
    "            weight_0_1 -= alpha * layer_0.T.dot(layer_1_delta)\n",
    "\n",
    "        if (interaction % 10 == 9):\n",
    "            print(\"Error:\" + str(layer_2_error)) \n",
    "\n",
    "\n",
    "MydeepNeuralNetwork(input,output, alpha,hidden_size)\n"
   ]
  },
  {
   "cell_type": "code",
   "execution_count": 12,
   "metadata": {},
   "outputs": [
    {
     "output_type": "error",
     "ename": "NameError",
     "evalue": "name 'images' is not defined",
     "traceback": [
      "\u001b[0;31m---------------------------------------------------------------------------\u001b[0m",
      "\u001b[0;31mNameError\u001b[0m                                 Traceback (most recent call last)",
      "\u001b[0;32m<ipython-input-12-b956bd2076f9>\u001b[0m in \u001b[0;36m<module>\u001b[0;34m\u001b[0m\n\u001b[1;32m     14\u001b[0m     \u001b[0merror\u001b[0m\u001b[0;34m,\u001b[0m \u001b[0mcorrect_cnt\u001b[0m \u001b[0;34m=\u001b[0m \u001b[0;34m(\u001b[0m\u001b[0;36m0.0\u001b[0m\u001b[0;34m,\u001b[0m \u001b[0;36m0\u001b[0m\u001b[0;34m)\u001b[0m\u001b[0;34m\u001b[0m\u001b[0;34m\u001b[0m\u001b[0m\n\u001b[1;32m     15\u001b[0m \u001b[0;34m\u001b[0m\u001b[0m\n\u001b[0;32m---> 16\u001b[0;31m     \u001b[0;32mfor\u001b[0m \u001b[0mi\u001b[0m \u001b[0;32min\u001b[0m \u001b[0mrange\u001b[0m\u001b[0;34m(\u001b[0m\u001b[0mint\u001b[0m\u001b[0;34m(\u001b[0m\u001b[0mlen\u001b[0m\u001b[0;34m(\u001b[0m\u001b[0mimages\u001b[0m\u001b[0;34m)\u001b[0m \u001b[0;34m/\u001b[0m \u001b[0mbatch_size\u001b[0m\u001b[0;34m)\u001b[0m\u001b[0;34m)\u001b[0m\u001b[0;34m:\u001b[0m\u001b[0;34m\u001b[0m\u001b[0;34m\u001b[0m\u001b[0m\n\u001b[0m\u001b[1;32m     17\u001b[0m         \u001b[0mbatch_start\u001b[0m\u001b[0;34m,\u001b[0m \u001b[0mbatch_end\u001b[0m \u001b[0;34m=\u001b[0m \u001b[0;34m(\u001b[0m\u001b[0;34m(\u001b[0m\u001b[0mi\u001b[0m \u001b[0;34m*\u001b[0m \u001b[0mbatch_size\u001b[0m\u001b[0;34m)\u001b[0m\u001b[0;34m,\u001b[0m\u001b[0;34m(\u001b[0m\u001b[0;34m(\u001b[0m\u001b[0mi\u001b[0m\u001b[0;34m+\u001b[0m\u001b[0;36m1\u001b[0m\u001b[0;34m)\u001b[0m\u001b[0;34m*\u001b[0m\u001b[0mbatch_size\u001b[0m\u001b[0;34m)\u001b[0m\u001b[0;34m)\u001b[0m\u001b[0;34m\u001b[0m\u001b[0;34m\u001b[0m\u001b[0m\n\u001b[1;32m     18\u001b[0m         \u001b[0mlayer_0\u001b[0m \u001b[0;34m=\u001b[0m \u001b[0mimages\u001b[0m\u001b[0;34m[\u001b[0m\u001b[0mbatch_start\u001b[0m\u001b[0;34m:\u001b[0m\u001b[0mbatch_end\u001b[0m\u001b[0;34m]\u001b[0m\u001b[0;34m\u001b[0m\u001b[0;34m\u001b[0m\u001b[0m\n",
      "\u001b[0;31mNameError\u001b[0m: name 'images' is not defined"
     ]
    }
   ],
   "source": [
    "#batch gradient descent\n",
    "def relu(x):\n",
    "    return (x >= 0) * x\n",
    "def relu2deriv(output):\n",
    "    return output >= 0\n",
    "\n",
    "batch_size = 100\n",
    "alpha, iterations = (0.001, 300)\n",
    "pixels_per_image, num_labels, hidden_size = (784, 10, 100)\n",
    "weights_0_1 = 0.2*np.random.random((pixels_per_image,hidden_size)) - 0.1\n",
    "weights_1_2 = 0.2*np.random.random((hidden_size,num_labels)) - 0.1\n",
    "\n",
    "for j in range(iterations):\n",
    "    error, correct_cnt = (0.0, 0)\n",
    "\n",
    "    for i in range(int(len(images) / batch_size)):\n",
    "        batch_start, batch_end = ((i * batch_size),((i+1)*batch_size))\n",
    "        layer_0 = images[batch_start:batch_end]\n",
    "        layer_1 = relu(np.dot(layer_0,weights_0_1))\n",
    "        dropout_mask = np.random.randint(2,size=layer_1.shape)\n",
    "        layer_1 *= dropout_mask * 2\n",
    "        layer_2 = np.dot(layer_1,weights_1_2)\n",
    "        error += np.sum((labels[batch_start:batch_end] - layer_2) ** 2)\n",
    "        for k in range(batch_size):\n",
    "            correct_cnt += int(np.argmax(layer_2[k:k+1]) == \\\n",
    "                np.argmax(labels[batch_start+k:batch_start+k+1]))\n",
    "            layer_2_delta = (labels[batch_start:batch_end]-layer_2) \\\n",
    "                                                        /batch_size\n",
    "            layer_1_delta = layer_2_delta.dot(weights_1_2.T)* \\\n",
    "                                                    relu2deriv(layer_1)\n",
    "            layer_1_delta *= dropout_mask\n",
    "            weights_1_2 += alpha * layer_1.T.dot(layer_2_delta)\n",
    "            weights_0_1 += alpha * layer_0.T.dot(layer_1_delta)\n",
    "    \n",
    "    if(j%10 == 0):\n",
    "        test_error = 0.0\n",
    "        test_correct_cnt = 0\n",
    "        \n",
    "        for i in range(len(test_images)):\n",
    "            layer_0 = test_images[i:i+1]\n",
    "            layer_1 = relu(np.dot(layer_0,weights_0_1))\n",
    "            layer_2 = np.dot(layer_1, weights_1_2)"
   ]
  },
  {
   "cell_type": "code",
   "execution_count": null,
   "metadata": {},
   "outputs": [],
   "source": []
  }
 ]
}